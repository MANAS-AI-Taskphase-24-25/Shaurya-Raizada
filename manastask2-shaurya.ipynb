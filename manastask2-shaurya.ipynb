{
 "cells": [
  {
   "cell_type": "code",
   "execution_count": 2,
   "id": "e635db0e-4408-4aa1-91d2-d67060eede7f",
   "metadata": {},
   "outputs": [],
   "source": [
    "import numpy as np\n",
    "import pandas as pd\n",
    "import matplotlib.pyplot as plt"
   ]
  },
  {
   "cell_type": "code",
   "execution_count": 6,
   "id": "64a7552a-2469-4053-9000-1d5fe692a49b",
   "metadata": {},
   "outputs": [
    {
     "data": {
      "text/html": [
       "<div>\n",
       "<style scoped>\n",
       "    .dataframe tbody tr th:only-of-type {\n",
       "        vertical-align: middle;\n",
       "    }\n",
       "\n",
       "    .dataframe tbody tr th {\n",
       "        vertical-align: top;\n",
       "    }\n",
       "\n",
       "    .dataframe thead th {\n",
       "        text-align: right;\n",
       "    }\n",
       "</style>\n",
       "<table border=\"1\" class=\"dataframe\">\n",
       "  <thead>\n",
       "    <tr style=\"text-align: right;\">\n",
       "      <th></th>\n",
       "      <th>Unnamed: 0</th>\n",
       "      <th>Name</th>\n",
       "      <th>Location</th>\n",
       "      <th>Year</th>\n",
       "      <th>Kilometers_Driven</th>\n",
       "      <th>Fuel_Type</th>\n",
       "      <th>Transmission</th>\n",
       "      <th>Owner_Type</th>\n",
       "      <th>Mileage</th>\n",
       "      <th>Engine</th>\n",
       "      <th>Power</th>\n",
       "      <th>Seats</th>\n",
       "      <th>Price</th>\n",
       "    </tr>\n",
       "  </thead>\n",
       "  <tbody>\n",
       "    <tr>\n",
       "      <th>0</th>\n",
       "      <td>0</td>\n",
       "      <td>Tata Tiago 1.2 Revotron XZ WO Alloy</td>\n",
       "      <td>Hyderabad</td>\n",
       "      <td>2017</td>\n",
       "      <td>16500</td>\n",
       "      <td>Petrol</td>\n",
       "      <td>Manual</td>\n",
       "      <td>First</td>\n",
       "      <td>23.84 kmpl</td>\n",
       "      <td>1199 CC</td>\n",
       "      <td>84 bhp</td>\n",
       "      <td>5.0</td>\n",
       "      <td>5.00</td>\n",
       "    </tr>\n",
       "    <tr>\n",
       "      <th>1</th>\n",
       "      <td>1</td>\n",
       "      <td>Mahindra TUV 300 2015-2019 mHAWK100 T8 AMT</td>\n",
       "      <td>Kochi</td>\n",
       "      <td>2017</td>\n",
       "      <td>47357</td>\n",
       "      <td>Diesel</td>\n",
       "      <td>Automatic</td>\n",
       "      <td>First</td>\n",
       "      <td>18.49 kmpl</td>\n",
       "      <td>1493 CC</td>\n",
       "      <td>100 bhp</td>\n",
       "      <td>7.0</td>\n",
       "      <td>8.37</td>\n",
       "    </tr>\n",
       "    <tr>\n",
       "      <th>2</th>\n",
       "      <td>2</td>\n",
       "      <td>Skoda Rapid 2013-2016 1.6 MPI Ambition</td>\n",
       "      <td>Mumbai</td>\n",
       "      <td>2014</td>\n",
       "      <td>35000</td>\n",
       "      <td>Petrol</td>\n",
       "      <td>Manual</td>\n",
       "      <td>First</td>\n",
       "      <td>15.0 kmpl</td>\n",
       "      <td>1598 CC</td>\n",
       "      <td>103.52 bhp</td>\n",
       "      <td>5.0</td>\n",
       "      <td>4.50</td>\n",
       "    </tr>\n",
       "    <tr>\n",
       "      <th>3</th>\n",
       "      <td>3</td>\n",
       "      <td>Tata Indica V2 DLS BSII</td>\n",
       "      <td>Jaipur</td>\n",
       "      <td>2007</td>\n",
       "      <td>200000</td>\n",
       "      <td>Diesel</td>\n",
       "      <td>Manual</td>\n",
       "      <td>Second</td>\n",
       "      <td>17.2 kmpl</td>\n",
       "      <td>1396 CC</td>\n",
       "      <td>53.5 bhp</td>\n",
       "      <td>5.0</td>\n",
       "      <td>0.85</td>\n",
       "    </tr>\n",
       "    <tr>\n",
       "      <th>4</th>\n",
       "      <td>4</td>\n",
       "      <td>Tata Manza Club Class Quadrajet90 LX</td>\n",
       "      <td>Mumbai</td>\n",
       "      <td>2013</td>\n",
       "      <td>64000</td>\n",
       "      <td>Diesel</td>\n",
       "      <td>Manual</td>\n",
       "      <td>Second</td>\n",
       "      <td>21.02 kmpl</td>\n",
       "      <td>1248 CC</td>\n",
       "      <td>88.76 bhp</td>\n",
       "      <td>5.0</td>\n",
       "      <td>2.65</td>\n",
       "    </tr>\n",
       "  </tbody>\n",
       "</table>\n",
       "</div>"
      ],
      "text/plain": [
       "   Unnamed: 0                                        Name   Location  Year  \\\n",
       "0           0         Tata Tiago 1.2 Revotron XZ WO Alloy  Hyderabad  2017   \n",
       "1           1  Mahindra TUV 300 2015-2019 mHAWK100 T8 AMT      Kochi  2017   \n",
       "2           2      Skoda Rapid 2013-2016 1.6 MPI Ambition     Mumbai  2014   \n",
       "3           3                     Tata Indica V2 DLS BSII     Jaipur  2007   \n",
       "4           4        Tata Manza Club Class Quadrajet90 LX     Mumbai  2013   \n",
       "\n",
       "   Kilometers_Driven Fuel_Type Transmission Owner_Type     Mileage   Engine  \\\n",
       "0              16500    Petrol       Manual      First  23.84 kmpl  1199 CC   \n",
       "1              47357    Diesel    Automatic      First  18.49 kmpl  1493 CC   \n",
       "2              35000    Petrol       Manual      First   15.0 kmpl  1598 CC   \n",
       "3             200000    Diesel       Manual     Second   17.2 kmpl  1396 CC   \n",
       "4              64000    Diesel       Manual     Second  21.02 kmpl  1248 CC   \n",
       "\n",
       "        Power  Seats  Price  \n",
       "0      84 bhp    5.0   5.00  \n",
       "1     100 bhp    7.0   8.37  \n",
       "2  103.52 bhp    5.0   4.50  \n",
       "3    53.5 bhp    5.0   0.85  \n",
       "4   88.76 bhp    5.0   2.65  "
      ]
     },
     "execution_count": 6,
     "metadata": {},
     "output_type": "execute_result"
    }
   ],
   "source": [
    "# reading the training data set\n",
    "df1 = pd.read_csv(\"C:\\\\Users\\\\HP\\\\Downloads\\\\Train.csv\")\n",
    "df1.head()"
   ]
  },
  {
   "cell_type": "code",
   "execution_count": 133,
   "id": "3e50631c-e88a-4f99-b139-4efb37073af9",
   "metadata": {},
   "outputs": [
    {
     "ename": "KeyError",
     "evalue": "\"['Name', 'Unnamed: 0'] not found in axis\"",
     "output_type": "error",
     "traceback": [
      "\u001b[1;31m---------------------------------------------------------------------------\u001b[0m",
      "\u001b[1;31mKeyError\u001b[0m                                  Traceback (most recent call last)",
      "Cell \u001b[1;32mIn[133], line 1\u001b[0m\n\u001b[1;32m----> 1\u001b[0m df1 \u001b[38;5;241m=\u001b[39m \u001b[43mdf1\u001b[49m\u001b[38;5;241;43m.\u001b[39;49m\u001b[43mdrop\u001b[49m\u001b[43m(\u001b[49m\u001b[43m[\u001b[49m\u001b[38;5;124;43m'\u001b[39;49m\u001b[38;5;124;43mName\u001b[39;49m\u001b[38;5;124;43m'\u001b[39;49m\u001b[43m,\u001b[49m\u001b[43m \u001b[49m\u001b[38;5;124;43m'\u001b[39;49m\u001b[38;5;124;43mUnnamed: 0\u001b[39;49m\u001b[38;5;124;43m'\u001b[39;49m\u001b[43m]\u001b[49m\u001b[43m,\u001b[49m\u001b[43m \u001b[49m\u001b[43maxis\u001b[49m\u001b[38;5;241;43m=\u001b[39;49m\u001b[38;5;241;43m1\u001b[39;49m\u001b[43m)\u001b[49m\n",
      "File \u001b[1;32m~\\AppData\\Local\\Programs\\Python\\Python312\\Lib\\site-packages\\pandas\\core\\frame.py:5581\u001b[0m, in \u001b[0;36mDataFrame.drop\u001b[1;34m(self, labels, axis, index, columns, level, inplace, errors)\u001b[0m\n\u001b[0;32m   5433\u001b[0m \u001b[38;5;28;01mdef\u001b[39;00m \u001b[38;5;21mdrop\u001b[39m(\n\u001b[0;32m   5434\u001b[0m     \u001b[38;5;28mself\u001b[39m,\n\u001b[0;32m   5435\u001b[0m     labels: IndexLabel \u001b[38;5;241m|\u001b[39m \u001b[38;5;28;01mNone\u001b[39;00m \u001b[38;5;241m=\u001b[39m \u001b[38;5;28;01mNone\u001b[39;00m,\n\u001b[1;32m   (...)\u001b[0m\n\u001b[0;32m   5442\u001b[0m     errors: IgnoreRaise \u001b[38;5;241m=\u001b[39m \u001b[38;5;124m\"\u001b[39m\u001b[38;5;124mraise\u001b[39m\u001b[38;5;124m\"\u001b[39m,\n\u001b[0;32m   5443\u001b[0m ) \u001b[38;5;241m-\u001b[39m\u001b[38;5;241m>\u001b[39m DataFrame \u001b[38;5;241m|\u001b[39m \u001b[38;5;28;01mNone\u001b[39;00m:\n\u001b[0;32m   5444\u001b[0m \u001b[38;5;250m    \u001b[39m\u001b[38;5;124;03m\"\"\"\u001b[39;00m\n\u001b[0;32m   5445\u001b[0m \u001b[38;5;124;03m    Drop specified labels from rows or columns.\u001b[39;00m\n\u001b[0;32m   5446\u001b[0m \n\u001b[1;32m   (...)\u001b[0m\n\u001b[0;32m   5579\u001b[0m \u001b[38;5;124;03m            weight  1.0     0.8\u001b[39;00m\n\u001b[0;32m   5580\u001b[0m \u001b[38;5;124;03m    \"\"\"\u001b[39;00m\n\u001b[1;32m-> 5581\u001b[0m     \u001b[38;5;28;01mreturn\u001b[39;00m \u001b[38;5;28;43msuper\u001b[39;49m\u001b[43m(\u001b[49m\u001b[43m)\u001b[49m\u001b[38;5;241;43m.\u001b[39;49m\u001b[43mdrop\u001b[49m\u001b[43m(\u001b[49m\n\u001b[0;32m   5582\u001b[0m \u001b[43m        \u001b[49m\u001b[43mlabels\u001b[49m\u001b[38;5;241;43m=\u001b[39;49m\u001b[43mlabels\u001b[49m\u001b[43m,\u001b[49m\n\u001b[0;32m   5583\u001b[0m \u001b[43m        \u001b[49m\u001b[43maxis\u001b[49m\u001b[38;5;241;43m=\u001b[39;49m\u001b[43maxis\u001b[49m\u001b[43m,\u001b[49m\n\u001b[0;32m   5584\u001b[0m \u001b[43m        \u001b[49m\u001b[43mindex\u001b[49m\u001b[38;5;241;43m=\u001b[39;49m\u001b[43mindex\u001b[49m\u001b[43m,\u001b[49m\n\u001b[0;32m   5585\u001b[0m \u001b[43m        \u001b[49m\u001b[43mcolumns\u001b[49m\u001b[38;5;241;43m=\u001b[39;49m\u001b[43mcolumns\u001b[49m\u001b[43m,\u001b[49m\n\u001b[0;32m   5586\u001b[0m \u001b[43m        \u001b[49m\u001b[43mlevel\u001b[49m\u001b[38;5;241;43m=\u001b[39;49m\u001b[43mlevel\u001b[49m\u001b[43m,\u001b[49m\n\u001b[0;32m   5587\u001b[0m \u001b[43m        \u001b[49m\u001b[43minplace\u001b[49m\u001b[38;5;241;43m=\u001b[39;49m\u001b[43minplace\u001b[49m\u001b[43m,\u001b[49m\n\u001b[0;32m   5588\u001b[0m \u001b[43m        \u001b[49m\u001b[43merrors\u001b[49m\u001b[38;5;241;43m=\u001b[39;49m\u001b[43merrors\u001b[49m\u001b[43m,\u001b[49m\n\u001b[0;32m   5589\u001b[0m \u001b[43m    \u001b[49m\u001b[43m)\u001b[49m\n",
      "File \u001b[1;32m~\\AppData\\Local\\Programs\\Python\\Python312\\Lib\\site-packages\\pandas\\core\\generic.py:4788\u001b[0m, in \u001b[0;36mNDFrame.drop\u001b[1;34m(self, labels, axis, index, columns, level, inplace, errors)\u001b[0m\n\u001b[0;32m   4786\u001b[0m \u001b[38;5;28;01mfor\u001b[39;00m axis, labels \u001b[38;5;129;01min\u001b[39;00m axes\u001b[38;5;241m.\u001b[39mitems():\n\u001b[0;32m   4787\u001b[0m     \u001b[38;5;28;01mif\u001b[39;00m labels \u001b[38;5;129;01mis\u001b[39;00m \u001b[38;5;129;01mnot\u001b[39;00m \u001b[38;5;28;01mNone\u001b[39;00m:\n\u001b[1;32m-> 4788\u001b[0m         obj \u001b[38;5;241m=\u001b[39m \u001b[43mobj\u001b[49m\u001b[38;5;241;43m.\u001b[39;49m\u001b[43m_drop_axis\u001b[49m\u001b[43m(\u001b[49m\u001b[43mlabels\u001b[49m\u001b[43m,\u001b[49m\u001b[43m \u001b[49m\u001b[43maxis\u001b[49m\u001b[43m,\u001b[49m\u001b[43m \u001b[49m\u001b[43mlevel\u001b[49m\u001b[38;5;241;43m=\u001b[39;49m\u001b[43mlevel\u001b[49m\u001b[43m,\u001b[49m\u001b[43m \u001b[49m\u001b[43merrors\u001b[49m\u001b[38;5;241;43m=\u001b[39;49m\u001b[43merrors\u001b[49m\u001b[43m)\u001b[49m\n\u001b[0;32m   4790\u001b[0m \u001b[38;5;28;01mif\u001b[39;00m inplace:\n\u001b[0;32m   4791\u001b[0m     \u001b[38;5;28mself\u001b[39m\u001b[38;5;241m.\u001b[39m_update_inplace(obj)\n",
      "File \u001b[1;32m~\\AppData\\Local\\Programs\\Python\\Python312\\Lib\\site-packages\\pandas\\core\\generic.py:4830\u001b[0m, in \u001b[0;36mNDFrame._drop_axis\u001b[1;34m(self, labels, axis, level, errors, only_slice)\u001b[0m\n\u001b[0;32m   4828\u001b[0m         new_axis \u001b[38;5;241m=\u001b[39m axis\u001b[38;5;241m.\u001b[39mdrop(labels, level\u001b[38;5;241m=\u001b[39mlevel, errors\u001b[38;5;241m=\u001b[39merrors)\n\u001b[0;32m   4829\u001b[0m     \u001b[38;5;28;01melse\u001b[39;00m:\n\u001b[1;32m-> 4830\u001b[0m         new_axis \u001b[38;5;241m=\u001b[39m \u001b[43maxis\u001b[49m\u001b[38;5;241;43m.\u001b[39;49m\u001b[43mdrop\u001b[49m\u001b[43m(\u001b[49m\u001b[43mlabels\u001b[49m\u001b[43m,\u001b[49m\u001b[43m \u001b[49m\u001b[43merrors\u001b[49m\u001b[38;5;241;43m=\u001b[39;49m\u001b[43merrors\u001b[49m\u001b[43m)\u001b[49m\n\u001b[0;32m   4831\u001b[0m     indexer \u001b[38;5;241m=\u001b[39m axis\u001b[38;5;241m.\u001b[39mget_indexer(new_axis)\n\u001b[0;32m   4833\u001b[0m \u001b[38;5;66;03m# Case for non-unique axis\u001b[39;00m\n\u001b[0;32m   4834\u001b[0m \u001b[38;5;28;01melse\u001b[39;00m:\n",
      "File \u001b[1;32m~\\AppData\\Local\\Programs\\Python\\Python312\\Lib\\site-packages\\pandas\\core\\indexes\\base.py:7070\u001b[0m, in \u001b[0;36mIndex.drop\u001b[1;34m(self, labels, errors)\u001b[0m\n\u001b[0;32m   7068\u001b[0m \u001b[38;5;28;01mif\u001b[39;00m mask\u001b[38;5;241m.\u001b[39many():\n\u001b[0;32m   7069\u001b[0m     \u001b[38;5;28;01mif\u001b[39;00m errors \u001b[38;5;241m!=\u001b[39m \u001b[38;5;124m\"\u001b[39m\u001b[38;5;124mignore\u001b[39m\u001b[38;5;124m\"\u001b[39m:\n\u001b[1;32m-> 7070\u001b[0m         \u001b[38;5;28;01mraise\u001b[39;00m \u001b[38;5;167;01mKeyError\u001b[39;00m(\u001b[38;5;124mf\u001b[39m\u001b[38;5;124m\"\u001b[39m\u001b[38;5;132;01m{\u001b[39;00mlabels[mask]\u001b[38;5;241m.\u001b[39mtolist()\u001b[38;5;132;01m}\u001b[39;00m\u001b[38;5;124m not found in axis\u001b[39m\u001b[38;5;124m\"\u001b[39m)\n\u001b[0;32m   7071\u001b[0m     indexer \u001b[38;5;241m=\u001b[39m indexer[\u001b[38;5;241m~\u001b[39mmask]\n\u001b[0;32m   7072\u001b[0m \u001b[38;5;28;01mreturn\u001b[39;00m \u001b[38;5;28mself\u001b[39m\u001b[38;5;241m.\u001b[39mdelete(indexer)\n",
      "\u001b[1;31mKeyError\u001b[0m: \"['Name', 'Unnamed: 0'] not found in axis\""
     ]
    }
   ],
   "source": [
    "df1 = df1.drop(['Name', 'Unnamed: 0'], axis=1)"
   ]
  },
  {
   "cell_type": "code",
   "execution_count": 10,
   "id": "cf5ea58f-e354-45b5-9939-943b6ef7224e",
   "metadata": {},
   "outputs": [
    {
     "data": {
      "text/plain": [
       "Index(['Location', 'Year', 'Kilometers_Driven', 'Fuel_Type', 'Transmission',\n",
       "       'Owner_Type', 'Mileage', 'Engine', 'Power', 'Seats', 'Price'],\n",
       "      dtype='object')"
      ]
     },
     "execution_count": 10,
     "metadata": {},
     "output_type": "execute_result"
    }
   ],
   "source": [
    "df1.columns"
   ]
  },
  {
   "cell_type": "code",
   "execution_count": 17,
   "id": "03cb7977-87fd-4cda-9c95-b9f7d1689533",
   "metadata": {},
   "outputs": [
    {
     "name": "stdout",
     "output_type": "stream",
     "text": [
      "Series([], dtype: int64)\n"
     ]
    }
   ],
   "source": [
    "# cleaning the data set\n",
    "null_counts = df1.isnull().sum()\n",
    "print(null_counts[null_counts > 0])"
   ]
  },
  {
   "cell_type": "code",
   "execution_count": 14,
   "id": "8e6f54c7-0ec6-4532-a202-88fbdeff601e",
   "metadata": {},
   "outputs": [],
   "source": [
    "df1['Mileage'] = df1['Mileage'].astype(str).str.replace(' kmpl', '').str.replace(' km/kg', '').astype(float)\n",
    "df1['Engine'] = df1['Engine'].astype(str).str.replace(\" CC\", \"\").astype(float)\n",
    "df1['Power'] = df1['Power'].astype(str).str.replace(\" bhp\", \"\").replace('null', np.nan).astype(float)"
   ]
  },
  {
   "cell_type": "code",
   "execution_count": 16,
   "id": "060c9b55-0630-4b84-a16f-3a53f75389a3",
   "metadata": {},
   "outputs": [],
   "source": [
    "df1['Mileage'] = df1['Mileage'].fillna(df1['Mileage'].median())\n",
    "df1['Engine'] = df1['Engine'].fillna(df1['Engine'].median())\n",
    "df1['Power'] = df1['Power'].fillna(df1['Power'].median())\n",
    "df1['Seats'] = df1['Seats'].fillna(df1['Seats'].median())"
   ]
  },
  {
   "cell_type": "code",
   "execution_count": 19,
   "id": "62e9d1f5-cbf6-4877-9110-9a95ab6b5c7a",
   "metadata": {},
   "outputs": [],
   "source": [
    "df1_new = pd.get_dummies(df1[['Fuel_Type', 'Transmission', 'Owner_Type', 'Location']], drop_first=True)"
   ]
  },
  {
   "cell_type": "code",
   "execution_count": 20,
   "id": "77420825-4779-453d-94aa-ab1ea4c0d7b7",
   "metadata": {},
   "outputs": [],
   "source": [
    "# making feature and target variables\n",
    "feat1 = pd.concat([df1[['Year', 'Kilometers_Driven', 'Mileage', 'Engine', 'Power', 'Seats']], df1_new], axis=1)"
   ]
  },
  {
   "cell_type": "code",
   "execution_count": 22,
   "id": "b9c3d69d-7418-4ea9-a553-d7d9624257c2",
   "metadata": {},
   "outputs": [],
   "source": [
    "tar1 = df1['Price']"
   ]
  },
  {
   "cell_type": "code",
   "execution_count": 23,
   "id": "0cc94b6b-d9b3-436f-9384-8b55918adc6b",
   "metadata": {},
   "outputs": [
    {
     "data": {
      "text/html": [
       "<div>\n",
       "<style scoped>\n",
       "    .dataframe tbody tr th:only-of-type {\n",
       "        vertical-align: middle;\n",
       "    }\n",
       "\n",
       "    .dataframe tbody tr th {\n",
       "        vertical-align: top;\n",
       "    }\n",
       "\n",
       "    .dataframe thead th {\n",
       "        text-align: right;\n",
       "    }\n",
       "</style>\n",
       "<table border=\"1\" class=\"dataframe\">\n",
       "  <thead>\n",
       "    <tr style=\"text-align: right;\">\n",
       "      <th></th>\n",
       "      <th>Year</th>\n",
       "      <th>Kilometers_Driven</th>\n",
       "      <th>Mileage</th>\n",
       "      <th>Engine</th>\n",
       "      <th>Power</th>\n",
       "      <th>Seats</th>\n",
       "      <th>Fuel_Type_Electric</th>\n",
       "      <th>Fuel_Type_Petrol</th>\n",
       "      <th>Transmission_Manual</th>\n",
       "      <th>Owner_Type_Fourth &amp; Above</th>\n",
       "      <th>...</th>\n",
       "      <th>Location_Bangalore</th>\n",
       "      <th>Location_Chennai</th>\n",
       "      <th>Location_Coimbatore</th>\n",
       "      <th>Location_Delhi</th>\n",
       "      <th>Location_Hyderabad</th>\n",
       "      <th>Location_Jaipur</th>\n",
       "      <th>Location_Kochi</th>\n",
       "      <th>Location_Kolkata</th>\n",
       "      <th>Location_Mumbai</th>\n",
       "      <th>Location_Pune</th>\n",
       "    </tr>\n",
       "  </thead>\n",
       "  <tbody>\n",
       "    <tr>\n",
       "      <th>0</th>\n",
       "      <td>2017</td>\n",
       "      <td>16500</td>\n",
       "      <td>23.84</td>\n",
       "      <td>1199.0</td>\n",
       "      <td>84.00</td>\n",
       "      <td>5.0</td>\n",
       "      <td>False</td>\n",
       "      <td>True</td>\n",
       "      <td>True</td>\n",
       "      <td>False</td>\n",
       "      <td>...</td>\n",
       "      <td>False</td>\n",
       "      <td>False</td>\n",
       "      <td>False</td>\n",
       "      <td>False</td>\n",
       "      <td>True</td>\n",
       "      <td>False</td>\n",
       "      <td>False</td>\n",
       "      <td>False</td>\n",
       "      <td>False</td>\n",
       "      <td>False</td>\n",
       "    </tr>\n",
       "    <tr>\n",
       "      <th>1</th>\n",
       "      <td>2017</td>\n",
       "      <td>47357</td>\n",
       "      <td>18.49</td>\n",
       "      <td>1493.0</td>\n",
       "      <td>100.00</td>\n",
       "      <td>7.0</td>\n",
       "      <td>False</td>\n",
       "      <td>False</td>\n",
       "      <td>False</td>\n",
       "      <td>False</td>\n",
       "      <td>...</td>\n",
       "      <td>False</td>\n",
       "      <td>False</td>\n",
       "      <td>False</td>\n",
       "      <td>False</td>\n",
       "      <td>False</td>\n",
       "      <td>False</td>\n",
       "      <td>True</td>\n",
       "      <td>False</td>\n",
       "      <td>False</td>\n",
       "      <td>False</td>\n",
       "    </tr>\n",
       "    <tr>\n",
       "      <th>2</th>\n",
       "      <td>2014</td>\n",
       "      <td>35000</td>\n",
       "      <td>15.00</td>\n",
       "      <td>1598.0</td>\n",
       "      <td>103.52</td>\n",
       "      <td>5.0</td>\n",
       "      <td>False</td>\n",
       "      <td>True</td>\n",
       "      <td>True</td>\n",
       "      <td>False</td>\n",
       "      <td>...</td>\n",
       "      <td>False</td>\n",
       "      <td>False</td>\n",
       "      <td>False</td>\n",
       "      <td>False</td>\n",
       "      <td>False</td>\n",
       "      <td>False</td>\n",
       "      <td>False</td>\n",
       "      <td>False</td>\n",
       "      <td>True</td>\n",
       "      <td>False</td>\n",
       "    </tr>\n",
       "    <tr>\n",
       "      <th>3</th>\n",
       "      <td>2007</td>\n",
       "      <td>200000</td>\n",
       "      <td>17.20</td>\n",
       "      <td>1396.0</td>\n",
       "      <td>53.50</td>\n",
       "      <td>5.0</td>\n",
       "      <td>False</td>\n",
       "      <td>False</td>\n",
       "      <td>True</td>\n",
       "      <td>False</td>\n",
       "      <td>...</td>\n",
       "      <td>False</td>\n",
       "      <td>False</td>\n",
       "      <td>False</td>\n",
       "      <td>False</td>\n",
       "      <td>False</td>\n",
       "      <td>True</td>\n",
       "      <td>False</td>\n",
       "      <td>False</td>\n",
       "      <td>False</td>\n",
       "      <td>False</td>\n",
       "    </tr>\n",
       "    <tr>\n",
       "      <th>4</th>\n",
       "      <td>2013</td>\n",
       "      <td>64000</td>\n",
       "      <td>21.02</td>\n",
       "      <td>1248.0</td>\n",
       "      <td>88.76</td>\n",
       "      <td>5.0</td>\n",
       "      <td>False</td>\n",
       "      <td>False</td>\n",
       "      <td>True</td>\n",
       "      <td>False</td>\n",
       "      <td>...</td>\n",
       "      <td>False</td>\n",
       "      <td>False</td>\n",
       "      <td>False</td>\n",
       "      <td>False</td>\n",
       "      <td>False</td>\n",
       "      <td>False</td>\n",
       "      <td>False</td>\n",
       "      <td>False</td>\n",
       "      <td>True</td>\n",
       "      <td>False</td>\n",
       "    </tr>\n",
       "    <tr>\n",
       "      <th>...</th>\n",
       "      <td>...</td>\n",
       "      <td>...</td>\n",
       "      <td>...</td>\n",
       "      <td>...</td>\n",
       "      <td>...</td>\n",
       "      <td>...</td>\n",
       "      <td>...</td>\n",
       "      <td>...</td>\n",
       "      <td>...</td>\n",
       "      <td>...</td>\n",
       "      <td>...</td>\n",
       "      <td>...</td>\n",
       "      <td>...</td>\n",
       "      <td>...</td>\n",
       "      <td>...</td>\n",
       "      <td>...</td>\n",
       "      <td>...</td>\n",
       "      <td>...</td>\n",
       "      <td>...</td>\n",
       "      <td>...</td>\n",
       "      <td>...</td>\n",
       "    </tr>\n",
       "    <tr>\n",
       "      <th>3745</th>\n",
       "      <td>2009</td>\n",
       "      <td>150000</td>\n",
       "      <td>11.00</td>\n",
       "      <td>2993.0</td>\n",
       "      <td>235.00</td>\n",
       "      <td>5.0</td>\n",
       "      <td>False</td>\n",
       "      <td>False</td>\n",
       "      <td>False</td>\n",
       "      <td>False</td>\n",
       "      <td>...</td>\n",
       "      <td>False</td>\n",
       "      <td>True</td>\n",
       "      <td>False</td>\n",
       "      <td>False</td>\n",
       "      <td>False</td>\n",
       "      <td>False</td>\n",
       "      <td>False</td>\n",
       "      <td>False</td>\n",
       "      <td>False</td>\n",
       "      <td>False</td>\n",
       "    </tr>\n",
       "    <tr>\n",
       "      <th>3746</th>\n",
       "      <td>2012</td>\n",
       "      <td>85000</td>\n",
       "      <td>11.79</td>\n",
       "      <td>2179.0</td>\n",
       "      <td>120.00</td>\n",
       "      <td>7.0</td>\n",
       "      <td>False</td>\n",
       "      <td>False</td>\n",
       "      <td>False</td>\n",
       "      <td>False</td>\n",
       "      <td>...</td>\n",
       "      <td>False</td>\n",
       "      <td>False</td>\n",
       "      <td>False</td>\n",
       "      <td>True</td>\n",
       "      <td>False</td>\n",
       "      <td>False</td>\n",
       "      <td>False</td>\n",
       "      <td>False</td>\n",
       "      <td>False</td>\n",
       "      <td>False</td>\n",
       "    </tr>\n",
       "    <tr>\n",
       "      <th>3747</th>\n",
       "      <td>2007</td>\n",
       "      <td>55100</td>\n",
       "      <td>18.90</td>\n",
       "      <td>998.0</td>\n",
       "      <td>67.10</td>\n",
       "      <td>5.0</td>\n",
       "      <td>False</td>\n",
       "      <td>True</td>\n",
       "      <td>True</td>\n",
       "      <td>False</td>\n",
       "      <td>...</td>\n",
       "      <td>False</td>\n",
       "      <td>False</td>\n",
       "      <td>False</td>\n",
       "      <td>False</td>\n",
       "      <td>False</td>\n",
       "      <td>False</td>\n",
       "      <td>False</td>\n",
       "      <td>False</td>\n",
       "      <td>False</td>\n",
       "      <td>False</td>\n",
       "    </tr>\n",
       "    <tr>\n",
       "      <th>3748</th>\n",
       "      <td>2014</td>\n",
       "      <td>77500</td>\n",
       "      <td>20.45</td>\n",
       "      <td>1461.0</td>\n",
       "      <td>83.80</td>\n",
       "      <td>5.0</td>\n",
       "      <td>False</td>\n",
       "      <td>False</td>\n",
       "      <td>True</td>\n",
       "      <td>False</td>\n",
       "      <td>...</td>\n",
       "      <td>False</td>\n",
       "      <td>False</td>\n",
       "      <td>False</td>\n",
       "      <td>False</td>\n",
       "      <td>True</td>\n",
       "      <td>False</td>\n",
       "      <td>False</td>\n",
       "      <td>False</td>\n",
       "      <td>False</td>\n",
       "      <td>False</td>\n",
       "    </tr>\n",
       "    <tr>\n",
       "      <th>3749</th>\n",
       "      <td>2012</td>\n",
       "      <td>40000</td>\n",
       "      <td>18.90</td>\n",
       "      <td>998.0</td>\n",
       "      <td>67.10</td>\n",
       "      <td>5.0</td>\n",
       "      <td>False</td>\n",
       "      <td>True</td>\n",
       "      <td>True</td>\n",
       "      <td>False</td>\n",
       "      <td>...</td>\n",
       "      <td>False</td>\n",
       "      <td>False</td>\n",
       "      <td>False</td>\n",
       "      <td>False</td>\n",
       "      <td>False</td>\n",
       "      <td>False</td>\n",
       "      <td>False</td>\n",
       "      <td>True</td>\n",
       "      <td>False</td>\n",
       "      <td>False</td>\n",
       "    </tr>\n",
       "  </tbody>\n",
       "</table>\n",
       "<p>3750 rows × 22 columns</p>\n",
       "</div>"
      ],
      "text/plain": [
       "      Year  Kilometers_Driven  Mileage  Engine   Power  Seats  \\\n",
       "0     2017              16500    23.84  1199.0   84.00    5.0   \n",
       "1     2017              47357    18.49  1493.0  100.00    7.0   \n",
       "2     2014              35000    15.00  1598.0  103.52    5.0   \n",
       "3     2007             200000    17.20  1396.0   53.50    5.0   \n",
       "4     2013              64000    21.02  1248.0   88.76    5.0   \n",
       "...    ...                ...      ...     ...     ...    ...   \n",
       "3745  2009             150000    11.00  2993.0  235.00    5.0   \n",
       "3746  2012              85000    11.79  2179.0  120.00    7.0   \n",
       "3747  2007              55100    18.90   998.0   67.10    5.0   \n",
       "3748  2014              77500    20.45  1461.0   83.80    5.0   \n",
       "3749  2012              40000    18.90   998.0   67.10    5.0   \n",
       "\n",
       "      Fuel_Type_Electric  Fuel_Type_Petrol  Transmission_Manual  \\\n",
       "0                  False              True                 True   \n",
       "1                  False             False                False   \n",
       "2                  False              True                 True   \n",
       "3                  False             False                 True   \n",
       "4                  False             False                 True   \n",
       "...                  ...               ...                  ...   \n",
       "3745               False             False                False   \n",
       "3746               False             False                False   \n",
       "3747               False              True                 True   \n",
       "3748               False             False                 True   \n",
       "3749               False              True                 True   \n",
       "\n",
       "      Owner_Type_Fourth & Above  ...  Location_Bangalore  Location_Chennai  \\\n",
       "0                         False  ...               False             False   \n",
       "1                         False  ...               False             False   \n",
       "2                         False  ...               False             False   \n",
       "3                         False  ...               False             False   \n",
       "4                         False  ...               False             False   \n",
       "...                         ...  ...                 ...               ...   \n",
       "3745                      False  ...               False              True   \n",
       "3746                      False  ...               False             False   \n",
       "3747                      False  ...               False             False   \n",
       "3748                      False  ...               False             False   \n",
       "3749                      False  ...               False             False   \n",
       "\n",
       "      Location_Coimbatore  Location_Delhi  Location_Hyderabad  \\\n",
       "0                   False           False                True   \n",
       "1                   False           False               False   \n",
       "2                   False           False               False   \n",
       "3                   False           False               False   \n",
       "4                   False           False               False   \n",
       "...                   ...             ...                 ...   \n",
       "3745                False           False               False   \n",
       "3746                False            True               False   \n",
       "3747                False           False               False   \n",
       "3748                False           False                True   \n",
       "3749                False           False               False   \n",
       "\n",
       "      Location_Jaipur  Location_Kochi  Location_Kolkata  Location_Mumbai  \\\n",
       "0               False           False             False            False   \n",
       "1               False            True             False            False   \n",
       "2               False           False             False             True   \n",
       "3                True           False             False            False   \n",
       "4               False           False             False             True   \n",
       "...               ...             ...               ...              ...   \n",
       "3745            False           False             False            False   \n",
       "3746            False           False             False            False   \n",
       "3747            False           False             False            False   \n",
       "3748            False           False             False            False   \n",
       "3749            False           False              True            False   \n",
       "\n",
       "      Location_Pune  \n",
       "0             False  \n",
       "1             False  \n",
       "2             False  \n",
       "3             False  \n",
       "4             False  \n",
       "...             ...  \n",
       "3745          False  \n",
       "3746          False  \n",
       "3747          False  \n",
       "3748          False  \n",
       "3749          False  \n",
       "\n",
       "[3750 rows x 22 columns]"
      ]
     },
     "execution_count": 23,
     "metadata": {},
     "output_type": "execute_result"
    }
   ],
   "source": [
    "feat1"
   ]
  },
  {
   "cell_type": "code",
   "execution_count": 24,
   "id": "3cd516d0-e4dd-45c4-9857-5f0df5095e7f",
   "metadata": {},
   "outputs": [
    {
     "data": {
      "text/plain": [
       "0        5.00\n",
       "1        8.37\n",
       "2        4.50\n",
       "3        0.85\n",
       "4        2.65\n",
       "        ...  \n",
       "3745    18.75\n",
       "3746     6.25\n",
       "3747     1.45\n",
       "3748     6.60\n",
       "3749     2.35\n",
       "Name: Price, Length: 3750, dtype: float64"
      ]
     },
     "execution_count": 24,
     "metadata": {},
     "output_type": "execute_result"
    }
   ],
   "source": [
    "tar1"
   ]
  },
  {
   "cell_type": "code",
   "execution_count": 25,
   "id": "8d2694f4-47cb-4025-bda5-2e4f2082dc4f",
   "metadata": {},
   "outputs": [
    {
     "data": {
      "text/html": [
       "<div>\n",
       "<style scoped>\n",
       "    .dataframe tbody tr th:only-of-type {\n",
       "        vertical-align: middle;\n",
       "    }\n",
       "\n",
       "    .dataframe tbody tr th {\n",
       "        vertical-align: top;\n",
       "    }\n",
       "\n",
       "    .dataframe thead th {\n",
       "        text-align: right;\n",
       "    }\n",
       "</style>\n",
       "<table border=\"1\" class=\"dataframe\">\n",
       "  <thead>\n",
       "    <tr style=\"text-align: right;\">\n",
       "      <th></th>\n",
       "      <th>Unnamed: 0</th>\n",
       "      <th>Name</th>\n",
       "      <th>Location</th>\n",
       "      <th>Year</th>\n",
       "      <th>Kilometers_Driven</th>\n",
       "      <th>Fuel_Type</th>\n",
       "      <th>Transmission</th>\n",
       "      <th>Owner_Type</th>\n",
       "      <th>Mileage</th>\n",
       "      <th>Engine</th>\n",
       "      <th>Power</th>\n",
       "      <th>Seats</th>\n",
       "      <th>Price</th>\n",
       "    </tr>\n",
       "  </thead>\n",
       "  <tbody>\n",
       "    <tr>\n",
       "      <th>0</th>\n",
       "      <td>0</td>\n",
       "      <td>Maruti Swift Dzire VDI</td>\n",
       "      <td>Hyderabad</td>\n",
       "      <td>2013</td>\n",
       "      <td>84175</td>\n",
       "      <td>Diesel</td>\n",
       "      <td>Manual</td>\n",
       "      <td>First</td>\n",
       "      <td>23.4 kmpl</td>\n",
       "      <td>1248 CC</td>\n",
       "      <td>74 bhp</td>\n",
       "      <td>5.0</td>\n",
       "      <td>6.95</td>\n",
       "    </tr>\n",
       "    <tr>\n",
       "      <th>1</th>\n",
       "      <td>1</td>\n",
       "      <td>Hyundai i10 Sportz AT</td>\n",
       "      <td>Delhi</td>\n",
       "      <td>2012</td>\n",
       "      <td>62282</td>\n",
       "      <td>Petrol</td>\n",
       "      <td>Automatic</td>\n",
       "      <td>First</td>\n",
       "      <td>16.95 kmpl</td>\n",
       "      <td>1197 CC</td>\n",
       "      <td>78.9 bhp</td>\n",
       "      <td>5.0</td>\n",
       "      <td>2.90</td>\n",
       "    </tr>\n",
       "    <tr>\n",
       "      <th>2</th>\n",
       "      <td>2</td>\n",
       "      <td>Hyundai Elite i20 Sportz Plus</td>\n",
       "      <td>Kochi</td>\n",
       "      <td>2017</td>\n",
       "      <td>37460</td>\n",
       "      <td>Petrol</td>\n",
       "      <td>Manual</td>\n",
       "      <td>First</td>\n",
       "      <td>18.6 kmpl</td>\n",
       "      <td>1197 CC</td>\n",
       "      <td>81.86 bhp</td>\n",
       "      <td>5.0</td>\n",
       "      <td>6.28</td>\n",
       "    </tr>\n",
       "    <tr>\n",
       "      <th>3</th>\n",
       "      <td>3</td>\n",
       "      <td>Volvo XC60 D5</td>\n",
       "      <td>Pune</td>\n",
       "      <td>2011</td>\n",
       "      <td>106976</td>\n",
       "      <td>Diesel</td>\n",
       "      <td>Automatic</td>\n",
       "      <td>First</td>\n",
       "      <td>13.5 kmpl</td>\n",
       "      <td>2400 CC</td>\n",
       "      <td>215 bhp</td>\n",
       "      <td>5.0</td>\n",
       "      <td>13.80</td>\n",
       "    </tr>\n",
       "    <tr>\n",
       "      <th>4</th>\n",
       "      <td>4</td>\n",
       "      <td>Hyundai i10 Magna 1.2</td>\n",
       "      <td>Delhi</td>\n",
       "      <td>2013</td>\n",
       "      <td>60000</td>\n",
       "      <td>Petrol</td>\n",
       "      <td>Manual</td>\n",
       "      <td>First</td>\n",
       "      <td>20.36 kmpl</td>\n",
       "      <td>1197 CC</td>\n",
       "      <td>78.9 bhp</td>\n",
       "      <td>5.0</td>\n",
       "      <td>2.75</td>\n",
       "    </tr>\n",
       "  </tbody>\n",
       "</table>\n",
       "</div>"
      ],
      "text/plain": [
       "   Unnamed: 0                           Name   Location  Year  \\\n",
       "0           0         Maruti Swift Dzire VDI  Hyderabad  2013   \n",
       "1           1          Hyundai i10 Sportz AT      Delhi  2012   \n",
       "2           2  Hyundai Elite i20 Sportz Plus      Kochi  2017   \n",
       "3           3                  Volvo XC60 D5       Pune  2011   \n",
       "4           4          Hyundai i10 Magna 1.2      Delhi  2013   \n",
       "\n",
       "   Kilometers_Driven Fuel_Type Transmission Owner_Type     Mileage   Engine  \\\n",
       "0              84175    Diesel       Manual      First   23.4 kmpl  1248 CC   \n",
       "1              62282    Petrol    Automatic      First  16.95 kmpl  1197 CC   \n",
       "2              37460    Petrol       Manual      First   18.6 kmpl  1197 CC   \n",
       "3             106976    Diesel    Automatic      First   13.5 kmpl  2400 CC   \n",
       "4              60000    Petrol       Manual      First  20.36 kmpl  1197 CC   \n",
       "\n",
       "       Power  Seats  Price  \n",
       "0     74 bhp    5.0   6.95  \n",
       "1   78.9 bhp    5.0   2.90  \n",
       "2  81.86 bhp    5.0   6.28  \n",
       "3    215 bhp    5.0  13.80  \n",
       "4   78.9 bhp    5.0   2.75  "
      ]
     },
     "execution_count": 25,
     "metadata": {},
     "output_type": "execute_result"
    }
   ],
   "source": [
    "# reading the testing data set\n",
    "df2 = pd.read_csv(\"C:\\\\Users\\\\HP\\\\Downloads\\\\Test.csv\")\n",
    "df2.head()"
   ]
  },
  {
   "cell_type": "code",
   "execution_count": 132,
   "id": "0faba015-35cd-4cc3-82f8-f58c89142189",
   "metadata": {},
   "outputs": [
    {
     "ename": "KeyError",
     "evalue": "\"['Name', 'Unnamed: 0'] not found in axis\"",
     "output_type": "error",
     "traceback": [
      "\u001b[1;31m---------------------------------------------------------------------------\u001b[0m",
      "\u001b[1;31mKeyError\u001b[0m                                  Traceback (most recent call last)",
      "Cell \u001b[1;32mIn[132], line 1\u001b[0m\n\u001b[1;32m----> 1\u001b[0m df2 \u001b[38;5;241m=\u001b[39m \u001b[43mdf2\u001b[49m\u001b[38;5;241;43m.\u001b[39;49m\u001b[43mdrop\u001b[49m\u001b[43m(\u001b[49m\u001b[43m[\u001b[49m\u001b[38;5;124;43m'\u001b[39;49m\u001b[38;5;124;43mName\u001b[39;49m\u001b[38;5;124;43m'\u001b[39;49m\u001b[43m,\u001b[49m\u001b[43m \u001b[49m\u001b[38;5;124;43m'\u001b[39;49m\u001b[38;5;124;43mUnnamed: 0\u001b[39;49m\u001b[38;5;124;43m'\u001b[39;49m\u001b[43m]\u001b[49m\u001b[43m,\u001b[49m\u001b[43m \u001b[49m\u001b[43maxis\u001b[49m\u001b[38;5;241;43m=\u001b[39;49m\u001b[38;5;241;43m1\u001b[39;49m\u001b[43m)\u001b[49m\n",
      "File \u001b[1;32m~\\AppData\\Local\\Programs\\Python\\Python312\\Lib\\site-packages\\pandas\\core\\frame.py:5581\u001b[0m, in \u001b[0;36mDataFrame.drop\u001b[1;34m(self, labels, axis, index, columns, level, inplace, errors)\u001b[0m\n\u001b[0;32m   5433\u001b[0m \u001b[38;5;28;01mdef\u001b[39;00m \u001b[38;5;21mdrop\u001b[39m(\n\u001b[0;32m   5434\u001b[0m     \u001b[38;5;28mself\u001b[39m,\n\u001b[0;32m   5435\u001b[0m     labels: IndexLabel \u001b[38;5;241m|\u001b[39m \u001b[38;5;28;01mNone\u001b[39;00m \u001b[38;5;241m=\u001b[39m \u001b[38;5;28;01mNone\u001b[39;00m,\n\u001b[1;32m   (...)\u001b[0m\n\u001b[0;32m   5442\u001b[0m     errors: IgnoreRaise \u001b[38;5;241m=\u001b[39m \u001b[38;5;124m\"\u001b[39m\u001b[38;5;124mraise\u001b[39m\u001b[38;5;124m\"\u001b[39m,\n\u001b[0;32m   5443\u001b[0m ) \u001b[38;5;241m-\u001b[39m\u001b[38;5;241m>\u001b[39m DataFrame \u001b[38;5;241m|\u001b[39m \u001b[38;5;28;01mNone\u001b[39;00m:\n\u001b[0;32m   5444\u001b[0m \u001b[38;5;250m    \u001b[39m\u001b[38;5;124;03m\"\"\"\u001b[39;00m\n\u001b[0;32m   5445\u001b[0m \u001b[38;5;124;03m    Drop specified labels from rows or columns.\u001b[39;00m\n\u001b[0;32m   5446\u001b[0m \n\u001b[1;32m   (...)\u001b[0m\n\u001b[0;32m   5579\u001b[0m \u001b[38;5;124;03m            weight  1.0     0.8\u001b[39;00m\n\u001b[0;32m   5580\u001b[0m \u001b[38;5;124;03m    \"\"\"\u001b[39;00m\n\u001b[1;32m-> 5581\u001b[0m     \u001b[38;5;28;01mreturn\u001b[39;00m \u001b[38;5;28;43msuper\u001b[39;49m\u001b[43m(\u001b[49m\u001b[43m)\u001b[49m\u001b[38;5;241;43m.\u001b[39;49m\u001b[43mdrop\u001b[49m\u001b[43m(\u001b[49m\n\u001b[0;32m   5582\u001b[0m \u001b[43m        \u001b[49m\u001b[43mlabels\u001b[49m\u001b[38;5;241;43m=\u001b[39;49m\u001b[43mlabels\u001b[49m\u001b[43m,\u001b[49m\n\u001b[0;32m   5583\u001b[0m \u001b[43m        \u001b[49m\u001b[43maxis\u001b[49m\u001b[38;5;241;43m=\u001b[39;49m\u001b[43maxis\u001b[49m\u001b[43m,\u001b[49m\n\u001b[0;32m   5584\u001b[0m \u001b[43m        \u001b[49m\u001b[43mindex\u001b[49m\u001b[38;5;241;43m=\u001b[39;49m\u001b[43mindex\u001b[49m\u001b[43m,\u001b[49m\n\u001b[0;32m   5585\u001b[0m \u001b[43m        \u001b[49m\u001b[43mcolumns\u001b[49m\u001b[38;5;241;43m=\u001b[39;49m\u001b[43mcolumns\u001b[49m\u001b[43m,\u001b[49m\n\u001b[0;32m   5586\u001b[0m \u001b[43m        \u001b[49m\u001b[43mlevel\u001b[49m\u001b[38;5;241;43m=\u001b[39;49m\u001b[43mlevel\u001b[49m\u001b[43m,\u001b[49m\n\u001b[0;32m   5587\u001b[0m \u001b[43m        \u001b[49m\u001b[43minplace\u001b[49m\u001b[38;5;241;43m=\u001b[39;49m\u001b[43minplace\u001b[49m\u001b[43m,\u001b[49m\n\u001b[0;32m   5588\u001b[0m \u001b[43m        \u001b[49m\u001b[43merrors\u001b[49m\u001b[38;5;241;43m=\u001b[39;49m\u001b[43merrors\u001b[49m\u001b[43m,\u001b[49m\n\u001b[0;32m   5589\u001b[0m \u001b[43m    \u001b[49m\u001b[43m)\u001b[49m\n",
      "File \u001b[1;32m~\\AppData\\Local\\Programs\\Python\\Python312\\Lib\\site-packages\\pandas\\core\\generic.py:4788\u001b[0m, in \u001b[0;36mNDFrame.drop\u001b[1;34m(self, labels, axis, index, columns, level, inplace, errors)\u001b[0m\n\u001b[0;32m   4786\u001b[0m \u001b[38;5;28;01mfor\u001b[39;00m axis, labels \u001b[38;5;129;01min\u001b[39;00m axes\u001b[38;5;241m.\u001b[39mitems():\n\u001b[0;32m   4787\u001b[0m     \u001b[38;5;28;01mif\u001b[39;00m labels \u001b[38;5;129;01mis\u001b[39;00m \u001b[38;5;129;01mnot\u001b[39;00m \u001b[38;5;28;01mNone\u001b[39;00m:\n\u001b[1;32m-> 4788\u001b[0m         obj \u001b[38;5;241m=\u001b[39m \u001b[43mobj\u001b[49m\u001b[38;5;241;43m.\u001b[39;49m\u001b[43m_drop_axis\u001b[49m\u001b[43m(\u001b[49m\u001b[43mlabels\u001b[49m\u001b[43m,\u001b[49m\u001b[43m \u001b[49m\u001b[43maxis\u001b[49m\u001b[43m,\u001b[49m\u001b[43m \u001b[49m\u001b[43mlevel\u001b[49m\u001b[38;5;241;43m=\u001b[39;49m\u001b[43mlevel\u001b[49m\u001b[43m,\u001b[49m\u001b[43m \u001b[49m\u001b[43merrors\u001b[49m\u001b[38;5;241;43m=\u001b[39;49m\u001b[43merrors\u001b[49m\u001b[43m)\u001b[49m\n\u001b[0;32m   4790\u001b[0m \u001b[38;5;28;01mif\u001b[39;00m inplace:\n\u001b[0;32m   4791\u001b[0m     \u001b[38;5;28mself\u001b[39m\u001b[38;5;241m.\u001b[39m_update_inplace(obj)\n",
      "File \u001b[1;32m~\\AppData\\Local\\Programs\\Python\\Python312\\Lib\\site-packages\\pandas\\core\\generic.py:4830\u001b[0m, in \u001b[0;36mNDFrame._drop_axis\u001b[1;34m(self, labels, axis, level, errors, only_slice)\u001b[0m\n\u001b[0;32m   4828\u001b[0m         new_axis \u001b[38;5;241m=\u001b[39m axis\u001b[38;5;241m.\u001b[39mdrop(labels, level\u001b[38;5;241m=\u001b[39mlevel, errors\u001b[38;5;241m=\u001b[39merrors)\n\u001b[0;32m   4829\u001b[0m     \u001b[38;5;28;01melse\u001b[39;00m:\n\u001b[1;32m-> 4830\u001b[0m         new_axis \u001b[38;5;241m=\u001b[39m \u001b[43maxis\u001b[49m\u001b[38;5;241;43m.\u001b[39;49m\u001b[43mdrop\u001b[49m\u001b[43m(\u001b[49m\u001b[43mlabels\u001b[49m\u001b[43m,\u001b[49m\u001b[43m \u001b[49m\u001b[43merrors\u001b[49m\u001b[38;5;241;43m=\u001b[39;49m\u001b[43merrors\u001b[49m\u001b[43m)\u001b[49m\n\u001b[0;32m   4831\u001b[0m     indexer \u001b[38;5;241m=\u001b[39m axis\u001b[38;5;241m.\u001b[39mget_indexer(new_axis)\n\u001b[0;32m   4833\u001b[0m \u001b[38;5;66;03m# Case for non-unique axis\u001b[39;00m\n\u001b[0;32m   4834\u001b[0m \u001b[38;5;28;01melse\u001b[39;00m:\n",
      "File \u001b[1;32m~\\AppData\\Local\\Programs\\Python\\Python312\\Lib\\site-packages\\pandas\\core\\indexes\\base.py:7070\u001b[0m, in \u001b[0;36mIndex.drop\u001b[1;34m(self, labels, errors)\u001b[0m\n\u001b[0;32m   7068\u001b[0m \u001b[38;5;28;01mif\u001b[39;00m mask\u001b[38;5;241m.\u001b[39many():\n\u001b[0;32m   7069\u001b[0m     \u001b[38;5;28;01mif\u001b[39;00m errors \u001b[38;5;241m!=\u001b[39m \u001b[38;5;124m\"\u001b[39m\u001b[38;5;124mignore\u001b[39m\u001b[38;5;124m\"\u001b[39m:\n\u001b[1;32m-> 7070\u001b[0m         \u001b[38;5;28;01mraise\u001b[39;00m \u001b[38;5;167;01mKeyError\u001b[39;00m(\u001b[38;5;124mf\u001b[39m\u001b[38;5;124m\"\u001b[39m\u001b[38;5;132;01m{\u001b[39;00mlabels[mask]\u001b[38;5;241m.\u001b[39mtolist()\u001b[38;5;132;01m}\u001b[39;00m\u001b[38;5;124m not found in axis\u001b[39m\u001b[38;5;124m\"\u001b[39m)\n\u001b[0;32m   7071\u001b[0m     indexer \u001b[38;5;241m=\u001b[39m indexer[\u001b[38;5;241m~\u001b[39mmask]\n\u001b[0;32m   7072\u001b[0m \u001b[38;5;28;01mreturn\u001b[39;00m \u001b[38;5;28mself\u001b[39m\u001b[38;5;241m.\u001b[39mdelete(indexer)\n",
      "\u001b[1;31mKeyError\u001b[0m: \"['Name', 'Unnamed: 0'] not found in axis\""
     ]
    }
   ],
   "source": [
    "df2 = df2.drop(['Name', 'Unnamed: 0'], axis=1)"
   ]
  },
  {
   "cell_type": "code",
   "execution_count": 29,
   "id": "406acdba-56ba-4a28-be44-d18577227971",
   "metadata": {},
   "outputs": [
    {
     "data": {
      "text/plain": [
       "Index(['Location', 'Year', 'Kilometers_Driven', 'Fuel_Type', 'Transmission',\n",
       "       'Owner_Type', 'Mileage', 'Engine', 'Power', 'Seats', 'Price'],\n",
       "      dtype='object')"
      ]
     },
     "execution_count": 29,
     "metadata": {},
     "output_type": "execute_result"
    }
   ],
   "source": [
    "df2.columns"
   ]
  },
  {
   "cell_type": "code",
   "execution_count": 30,
   "id": "def6b7df-a7c5-46cf-9d97-99f8dfd28161",
   "metadata": {},
   "outputs": [
    {
     "name": "stdout",
     "output_type": "stream",
     "text": [
      "Mileage    1\n",
      "Engine     6\n",
      "Power      6\n",
      "Seats      7\n",
      "dtype: int64\n"
     ]
    }
   ],
   "source": [
    "null_counts = df2.isnull().sum()\n",
    "print(null_counts[null_counts > 0])"
   ]
  },
  {
   "cell_type": "code",
   "execution_count": 32,
   "id": "09361f8e-90de-4351-a0c5-abc014f16810",
   "metadata": {},
   "outputs": [],
   "source": [
    "df2['Mileage'] = df2['Mileage'].astype(str).str.replace(' kmpl', '').str.replace(' km/kg', '').astype(float)\n",
    "df2['Engine'] = df2['Engine'].astype(str).str.replace(\" CC\", \"\").astype(float)\n",
    "df2['Power'] = df2['Power'].astype(str).str.replace(\" bhp\", \"\").replace('null', np.nan).astype(float)"
   ]
  },
  {
   "cell_type": "code",
   "execution_count": 34,
   "id": "52bf06d5-6dcc-4dfb-abe1-fd7d3f4d42ab",
   "metadata": {},
   "outputs": [],
   "source": [
    "df2['Mileage'] = df2['Mileage'].fillna(df2['Mileage'].median())\n",
    "df2['Engine'] = df2['Engine'].fillna(df2['Engine'].median())\n",
    "df2['Power'] = df2['Power'].fillna(df2['Power'].median())\n",
    "df2['Seats'] = df2['Seats'].fillna(df2['Seats'].median())"
   ]
  },
  {
   "cell_type": "code",
   "execution_count": 36,
   "id": "8cd9c919-9124-4f89-ab0d-2a4d93e74af2",
   "metadata": {},
   "outputs": [],
   "source": [
    "df2_new = pd.get_dummies(df2[['Fuel_Type', 'Transmission', 'Owner_Type', 'Location']], drop_first=True)"
   ]
  },
  {
   "cell_type": "code",
   "execution_count": 38,
   "id": "00bcf24f-b1ce-4ea3-89d2-de8bb324c67b",
   "metadata": {},
   "outputs": [],
   "source": [
    "feat2 = pd.concat([df2[['Year', 'Kilometers_Driven', 'Mileage', 'Engine', 'Power', 'Seats']], df2_new], axis=1)"
   ]
  },
  {
   "cell_type": "code",
   "execution_count": 40,
   "id": "b2cfe8af-b937-481b-bfd0-9854874e1e54",
   "metadata": {},
   "outputs": [],
   "source": [
    "tar2 = df2['Price']"
   ]
  },
  {
   "cell_type": "code",
   "execution_count": 42,
   "id": "c6ae3bba-c4bc-4a78-b05b-ca1dc71e5b71",
   "metadata": {},
   "outputs": [
    {
     "data": {
      "text/html": [
       "<div>\n",
       "<style scoped>\n",
       "    .dataframe tbody tr th:only-of-type {\n",
       "        vertical-align: middle;\n",
       "    }\n",
       "\n",
       "    .dataframe tbody tr th {\n",
       "        vertical-align: top;\n",
       "    }\n",
       "\n",
       "    .dataframe thead th {\n",
       "        text-align: right;\n",
       "    }\n",
       "</style>\n",
       "<table border=\"1\" class=\"dataframe\">\n",
       "  <thead>\n",
       "    <tr style=\"text-align: right;\">\n",
       "      <th></th>\n",
       "      <th>Year</th>\n",
       "      <th>Kilometers_Driven</th>\n",
       "      <th>Mileage</th>\n",
       "      <th>Engine</th>\n",
       "      <th>Power</th>\n",
       "      <th>Seats</th>\n",
       "      <th>Fuel_Type_Electric</th>\n",
       "      <th>Fuel_Type_Petrol</th>\n",
       "      <th>Transmission_Manual</th>\n",
       "      <th>Owner_Type_Fourth &amp; Above</th>\n",
       "      <th>...</th>\n",
       "      <th>Location_Bangalore</th>\n",
       "      <th>Location_Chennai</th>\n",
       "      <th>Location_Coimbatore</th>\n",
       "      <th>Location_Delhi</th>\n",
       "      <th>Location_Hyderabad</th>\n",
       "      <th>Location_Jaipur</th>\n",
       "      <th>Location_Kochi</th>\n",
       "      <th>Location_Kolkata</th>\n",
       "      <th>Location_Mumbai</th>\n",
       "      <th>Location_Pune</th>\n",
       "    </tr>\n",
       "  </thead>\n",
       "  <tbody>\n",
       "    <tr>\n",
       "      <th>0</th>\n",
       "      <td>2013</td>\n",
       "      <td>84175</td>\n",
       "      <td>23.40</td>\n",
       "      <td>1248.0</td>\n",
       "      <td>74.00</td>\n",
       "      <td>5.0</td>\n",
       "      <td>False</td>\n",
       "      <td>False</td>\n",
       "      <td>True</td>\n",
       "      <td>False</td>\n",
       "      <td>...</td>\n",
       "      <td>False</td>\n",
       "      <td>False</td>\n",
       "      <td>False</td>\n",
       "      <td>False</td>\n",
       "      <td>True</td>\n",
       "      <td>False</td>\n",
       "      <td>False</td>\n",
       "      <td>False</td>\n",
       "      <td>False</td>\n",
       "      <td>False</td>\n",
       "    </tr>\n",
       "    <tr>\n",
       "      <th>1</th>\n",
       "      <td>2012</td>\n",
       "      <td>62282</td>\n",
       "      <td>16.95</td>\n",
       "      <td>1197.0</td>\n",
       "      <td>78.90</td>\n",
       "      <td>5.0</td>\n",
       "      <td>False</td>\n",
       "      <td>True</td>\n",
       "      <td>False</td>\n",
       "      <td>False</td>\n",
       "      <td>...</td>\n",
       "      <td>False</td>\n",
       "      <td>False</td>\n",
       "      <td>False</td>\n",
       "      <td>True</td>\n",
       "      <td>False</td>\n",
       "      <td>False</td>\n",
       "      <td>False</td>\n",
       "      <td>False</td>\n",
       "      <td>False</td>\n",
       "      <td>False</td>\n",
       "    </tr>\n",
       "    <tr>\n",
       "      <th>2</th>\n",
       "      <td>2017</td>\n",
       "      <td>37460</td>\n",
       "      <td>18.60</td>\n",
       "      <td>1197.0</td>\n",
       "      <td>81.86</td>\n",
       "      <td>5.0</td>\n",
       "      <td>False</td>\n",
       "      <td>True</td>\n",
       "      <td>True</td>\n",
       "      <td>False</td>\n",
       "      <td>...</td>\n",
       "      <td>False</td>\n",
       "      <td>False</td>\n",
       "      <td>False</td>\n",
       "      <td>False</td>\n",
       "      <td>False</td>\n",
       "      <td>False</td>\n",
       "      <td>True</td>\n",
       "      <td>False</td>\n",
       "      <td>False</td>\n",
       "      <td>False</td>\n",
       "    </tr>\n",
       "    <tr>\n",
       "      <th>3</th>\n",
       "      <td>2011</td>\n",
       "      <td>106976</td>\n",
       "      <td>13.50</td>\n",
       "      <td>2400.0</td>\n",
       "      <td>215.00</td>\n",
       "      <td>5.0</td>\n",
       "      <td>False</td>\n",
       "      <td>False</td>\n",
       "      <td>False</td>\n",
       "      <td>False</td>\n",
       "      <td>...</td>\n",
       "      <td>False</td>\n",
       "      <td>False</td>\n",
       "      <td>False</td>\n",
       "      <td>False</td>\n",
       "      <td>False</td>\n",
       "      <td>False</td>\n",
       "      <td>False</td>\n",
       "      <td>False</td>\n",
       "      <td>False</td>\n",
       "      <td>True</td>\n",
       "    </tr>\n",
       "    <tr>\n",
       "      <th>4</th>\n",
       "      <td>2013</td>\n",
       "      <td>60000</td>\n",
       "      <td>20.36</td>\n",
       "      <td>1197.0</td>\n",
       "      <td>78.90</td>\n",
       "      <td>5.0</td>\n",
       "      <td>False</td>\n",
       "      <td>True</td>\n",
       "      <td>True</td>\n",
       "      <td>False</td>\n",
       "      <td>...</td>\n",
       "      <td>False</td>\n",
       "      <td>False</td>\n",
       "      <td>False</td>\n",
       "      <td>True</td>\n",
       "      <td>False</td>\n",
       "      <td>False</td>\n",
       "      <td>False</td>\n",
       "      <td>False</td>\n",
       "      <td>False</td>\n",
       "      <td>False</td>\n",
       "    </tr>\n",
       "    <tr>\n",
       "      <th>...</th>\n",
       "      <td>...</td>\n",
       "      <td>...</td>\n",
       "      <td>...</td>\n",
       "      <td>...</td>\n",
       "      <td>...</td>\n",
       "      <td>...</td>\n",
       "      <td>...</td>\n",
       "      <td>...</td>\n",
       "      <td>...</td>\n",
       "      <td>...</td>\n",
       "      <td>...</td>\n",
       "      <td>...</td>\n",
       "      <td>...</td>\n",
       "      <td>...</td>\n",
       "      <td>...</td>\n",
       "      <td>...</td>\n",
       "      <td>...</td>\n",
       "      <td>...</td>\n",
       "      <td>...</td>\n",
       "      <td>...</td>\n",
       "      <td>...</td>\n",
       "    </tr>\n",
       "    <tr>\n",
       "      <th>1245</th>\n",
       "      <td>2013</td>\n",
       "      <td>71000</td>\n",
       "      <td>22.70</td>\n",
       "      <td>1582.0</td>\n",
       "      <td>126.20</td>\n",
       "      <td>5.0</td>\n",
       "      <td>False</td>\n",
       "      <td>False</td>\n",
       "      <td>False</td>\n",
       "      <td>False</td>\n",
       "      <td>...</td>\n",
       "      <td>False</td>\n",
       "      <td>False</td>\n",
       "      <td>False</td>\n",
       "      <td>True</td>\n",
       "      <td>False</td>\n",
       "      <td>False</td>\n",
       "      <td>False</td>\n",
       "      <td>False</td>\n",
       "      <td>False</td>\n",
       "      <td>False</td>\n",
       "    </tr>\n",
       "    <tr>\n",
       "      <th>1246</th>\n",
       "      <td>2005</td>\n",
       "      <td>91000</td>\n",
       "      <td>16.80</td>\n",
       "      <td>1341.0</td>\n",
       "      <td>83.00</td>\n",
       "      <td>5.0</td>\n",
       "      <td>False</td>\n",
       "      <td>True</td>\n",
       "      <td>True</td>\n",
       "      <td>False</td>\n",
       "      <td>...</td>\n",
       "      <td>False</td>\n",
       "      <td>False</td>\n",
       "      <td>False</td>\n",
       "      <td>False</td>\n",
       "      <td>False</td>\n",
       "      <td>False</td>\n",
       "      <td>False</td>\n",
       "      <td>False</td>\n",
       "      <td>False</td>\n",
       "      <td>True</td>\n",
       "    </tr>\n",
       "    <tr>\n",
       "      <th>1247</th>\n",
       "      <td>2017</td>\n",
       "      <td>50534</td>\n",
       "      <td>17.21</td>\n",
       "      <td>1197.0</td>\n",
       "      <td>103.50</td>\n",
       "      <td>5.0</td>\n",
       "      <td>False</td>\n",
       "      <td>True</td>\n",
       "      <td>False</td>\n",
       "      <td>False</td>\n",
       "      <td>...</td>\n",
       "      <td>False</td>\n",
       "      <td>False</td>\n",
       "      <td>True</td>\n",
       "      <td>False</td>\n",
       "      <td>False</td>\n",
       "      <td>False</td>\n",
       "      <td>False</td>\n",
       "      <td>False</td>\n",
       "      <td>False</td>\n",
       "      <td>False</td>\n",
       "    </tr>\n",
       "    <tr>\n",
       "      <th>1248</th>\n",
       "      <td>2012</td>\n",
       "      <td>83000</td>\n",
       "      <td>19.08</td>\n",
       "      <td>1582.0</td>\n",
       "      <td>126.32</td>\n",
       "      <td>5.0</td>\n",
       "      <td>False</td>\n",
       "      <td>False</td>\n",
       "      <td>False</td>\n",
       "      <td>False</td>\n",
       "      <td>...</td>\n",
       "      <td>False</td>\n",
       "      <td>False</td>\n",
       "      <td>False</td>\n",
       "      <td>False</td>\n",
       "      <td>False</td>\n",
       "      <td>False</td>\n",
       "      <td>False</td>\n",
       "      <td>False</td>\n",
       "      <td>False</td>\n",
       "      <td>True</td>\n",
       "    </tr>\n",
       "    <tr>\n",
       "      <th>1249</th>\n",
       "      <td>2019</td>\n",
       "      <td>13574</td>\n",
       "      <td>21.40</td>\n",
       "      <td>1197.0</td>\n",
       "      <td>83.10</td>\n",
       "      <td>5.0</td>\n",
       "      <td>False</td>\n",
       "      <td>True</td>\n",
       "      <td>False</td>\n",
       "      <td>False</td>\n",
       "      <td>...</td>\n",
       "      <td>False</td>\n",
       "      <td>False</td>\n",
       "      <td>False</td>\n",
       "      <td>False</td>\n",
       "      <td>False</td>\n",
       "      <td>False</td>\n",
       "      <td>True</td>\n",
       "      <td>False</td>\n",
       "      <td>False</td>\n",
       "      <td>False</td>\n",
       "    </tr>\n",
       "  </tbody>\n",
       "</table>\n",
       "<p>1250 rows × 22 columns</p>\n",
       "</div>"
      ],
      "text/plain": [
       "      Year  Kilometers_Driven  Mileage  Engine   Power  Seats  \\\n",
       "0     2013              84175    23.40  1248.0   74.00    5.0   \n",
       "1     2012              62282    16.95  1197.0   78.90    5.0   \n",
       "2     2017              37460    18.60  1197.0   81.86    5.0   \n",
       "3     2011             106976    13.50  2400.0  215.00    5.0   \n",
       "4     2013              60000    20.36  1197.0   78.90    5.0   \n",
       "...    ...                ...      ...     ...     ...    ...   \n",
       "1245  2013              71000    22.70  1582.0  126.20    5.0   \n",
       "1246  2005              91000    16.80  1341.0   83.00    5.0   \n",
       "1247  2017              50534    17.21  1197.0  103.50    5.0   \n",
       "1248  2012              83000    19.08  1582.0  126.32    5.0   \n",
       "1249  2019              13574    21.40  1197.0   83.10    5.0   \n",
       "\n",
       "      Fuel_Type_Electric  Fuel_Type_Petrol  Transmission_Manual  \\\n",
       "0                  False             False                 True   \n",
       "1                  False              True                False   \n",
       "2                  False              True                 True   \n",
       "3                  False             False                False   \n",
       "4                  False              True                 True   \n",
       "...                  ...               ...                  ...   \n",
       "1245               False             False                False   \n",
       "1246               False              True                 True   \n",
       "1247               False              True                False   \n",
       "1248               False             False                False   \n",
       "1249               False              True                False   \n",
       "\n",
       "      Owner_Type_Fourth & Above  ...  Location_Bangalore  Location_Chennai  \\\n",
       "0                         False  ...               False             False   \n",
       "1                         False  ...               False             False   \n",
       "2                         False  ...               False             False   \n",
       "3                         False  ...               False             False   \n",
       "4                         False  ...               False             False   \n",
       "...                         ...  ...                 ...               ...   \n",
       "1245                      False  ...               False             False   \n",
       "1246                      False  ...               False             False   \n",
       "1247                      False  ...               False             False   \n",
       "1248                      False  ...               False             False   \n",
       "1249                      False  ...               False             False   \n",
       "\n",
       "      Location_Coimbatore  Location_Delhi  Location_Hyderabad  \\\n",
       "0                   False           False                True   \n",
       "1                   False            True               False   \n",
       "2                   False           False               False   \n",
       "3                   False           False               False   \n",
       "4                   False            True               False   \n",
       "...                   ...             ...                 ...   \n",
       "1245                False            True               False   \n",
       "1246                False           False               False   \n",
       "1247                 True           False               False   \n",
       "1248                False           False               False   \n",
       "1249                False           False               False   \n",
       "\n",
       "      Location_Jaipur  Location_Kochi  Location_Kolkata  Location_Mumbai  \\\n",
       "0               False           False             False            False   \n",
       "1               False           False             False            False   \n",
       "2               False            True             False            False   \n",
       "3               False           False             False            False   \n",
       "4               False           False             False            False   \n",
       "...               ...             ...               ...              ...   \n",
       "1245            False           False             False            False   \n",
       "1246            False           False             False            False   \n",
       "1247            False           False             False            False   \n",
       "1248            False           False             False            False   \n",
       "1249            False            True             False            False   \n",
       "\n",
       "      Location_Pune  \n",
       "0             False  \n",
       "1             False  \n",
       "2             False  \n",
       "3              True  \n",
       "4             False  \n",
       "...             ...  \n",
       "1245          False  \n",
       "1246           True  \n",
       "1247          False  \n",
       "1248           True  \n",
       "1249          False  \n",
       "\n",
       "[1250 rows x 22 columns]"
      ]
     },
     "execution_count": 42,
     "metadata": {},
     "output_type": "execute_result"
    }
   ],
   "source": [
    "feat2"
   ]
  },
  {
   "cell_type": "code",
   "execution_count": 43,
   "id": "de989fde-9afb-49e3-a645-8bad6ec7137d",
   "metadata": {},
   "outputs": [
    {
     "data": {
      "text/plain": [
       "0        6.95\n",
       "1        2.90\n",
       "2        6.28\n",
       "3       13.80\n",
       "4        2.75\n",
       "        ...  \n",
       "1245     6.80\n",
       "1246     0.80\n",
       "1247     8.27\n",
       "1248     6.00\n",
       "1249     9.51\n",
       "Name: Price, Length: 1250, dtype: float64"
      ]
     },
     "execution_count": 43,
     "metadata": {},
     "output_type": "execute_result"
    }
   ],
   "source": [
    "tar2"
   ]
  },
  {
   "cell_type": "code",
   "execution_count": 45,
   "id": "802933c5-8389-42e2-a396-aa5fbbc6a5a6",
   "metadata": {},
   "outputs": [],
   "source": [
    "# z score normalization\n",
    "feat1 = (feat1 - feat1.mean()) / feat1.std()"
   ]
  },
  {
   "cell_type": "code",
   "execution_count": 47,
   "id": "09d5681a-030c-494b-852b-f990fe5caf6d",
   "metadata": {},
   "outputs": [],
   "source": [
    "feat2 = (feat2 - feat2.mean()) / feat2.std()"
   ]
  },
  {
   "cell_type": "code",
   "execution_count": 137,
   "id": "fbad58fc-b850-484d-9326-9f5c40d7f684",
   "metadata": {},
   "outputs": [],
   "source": [
    "# putting target and feature values\n",
    "x1 = feat1.values\n",
    "y1 = tar1.values.reshape(-1, 1)"
   ]
  },
  {
   "cell_type": "code",
   "execution_count": 51,
   "id": "96366676-c5c0-4bd4-a967-6b81280e32c2",
   "metadata": {},
   "outputs": [],
   "source": [
    "x2 = feat2.values\n",
    "y2 = tar2.values.reshape(-1, 1)"
   ]
  },
  {
   "cell_type": "code",
   "execution_count": 136,
   "id": "92feb4d1-b760-45cb-89cf-74739810c65f",
   "metadata": {},
   "outputs": [],
   "source": [
    "# adding bias/intercept term\n",
    "x1 = np.hstack([np.ones((x1.shape[0], 1)), x1])"
   ]
  },
  {
   "cell_type": "code",
   "execution_count": 55,
   "id": "25ebbbf5-d34a-4178-baa1-eec958481e2d",
   "metadata": {},
   "outputs": [],
   "source": [
    "x2 = np.hstack([np.ones((x2.shape[0], 1)), x2])"
   ]
  },
  {
   "cell_type": "code",
   "execution_count": 135,
   "id": "7d4f86a4-07bf-45af-a955-390d8302348a",
   "metadata": {},
   "outputs": [],
   "source": [
    "# giving weights\n",
    "theta1 = np.random.randn(x1.shape[1], 1)"
   ]
  },
  {
   "cell_type": "code",
   "execution_count": 59,
   "id": "2ac682be-9f3a-40de-8cdb-afa6e5599b76",
   "metadata": {},
   "outputs": [],
   "source": [
    "theta2 = np.random.randn(x2.shape[1], 1)"
   ]
  },
  {
   "cell_type": "code",
   "execution_count": 71,
   "id": "ac604c7e-139c-4019-a1fe-a7f917ef9660",
   "metadata": {},
   "outputs": [],
   "source": [
    "iterations = 1000\n",
    "alpha = 0.01 # learning rate"
   ]
  },
  {
   "cell_type": "code",
   "execution_count": 134,
   "id": "6b08dbf0-4e04-4ce6-ad04-965293fffcf1",
   "metadata": {},
   "outputs": [],
   "source": [
    "# cost function\n",
    "def computecost(x1, y1, theta1):\n",
    "    m = len(y1)\n",
    "    predict = x1.dot(theta1)\n",
    "    cost = (1 / (2 * m)) * np.sum(np.square(predict - y1))\n",
    "    return cost"
   ]
  },
  {
   "cell_type": "code",
   "execution_count": 66,
   "id": "9cfbbe9d-793f-4ac8-b9a4-c796ff4c669b",
   "metadata": {},
   "outputs": [],
   "source": [
    "def computecost(x2, y2, theta2):\n",
    "    m = len(y2)\n",
    "    predict = x2.dot(theta2)\n",
    "    cost = (1 / (2 * m)) * np.sum(np.square(predict - y2))\n",
    "    return cost"
   ]
  },
  {
   "cell_type": "code",
   "execution_count": 76,
   "id": "e3b6716f-37cd-4fe9-988d-9f4f2e3dee70",
   "metadata": {},
   "outputs": [],
   "source": [
    "def gradientdescent(x1, y1, theta1, alpha, iterations):\n",
    "    m = len(y1)\n",
    "    cost1 = []\n",
    "    for i in range(iterations):\n",
    "        gradients1 = (1 / m) * x1.T.dot(x1.dot(theta1) - y1)\n",
    "        theta1 -= alpha * gradients1\n",
    "        cost1.append(computecost(x1, y1, theta1))\n",
    "    return theta1, cost1"
   ]
  },
  {
   "cell_type": "code",
   "execution_count": 77,
   "id": "b6a8f520-c8e6-4121-9e44-9c0f43385391",
   "metadata": {},
   "outputs": [],
   "source": [
    "def gradientdescent(x2, y2, theta2, alpha, iterations):\n",
    "    m = len(y2)\n",
    "    cost2 = []\n",
    "    for i in range(iterations):\n",
    "        gradients2 = (1 / m) * x2.T.dot(x2.dot(theta2) - y2)\n",
    "        theta2 -= alpha * gradients2\n",
    "        cost2.append(computecost(x2, y2, theta2))\n",
    "    return theta2, cost2"
   ]
  },
  {
   "cell_type": "code",
   "execution_count": 78,
   "id": "cd5e2765-62ee-4064-a7df-88b4a6f5a2d3",
   "metadata": {},
   "outputs": [],
   "source": [
    "theta_new1, cost1 = gradientdescent(x1, y1, theta1, alpha, iterations)"
   ]
  },
  {
   "cell_type": "code",
   "execution_count": 80,
   "id": "353c60a3-f7a7-4281-994b-ada63b231e74",
   "metadata": {},
   "outputs": [],
   "source": [
    "theta_new2, cost2 = gradientdescent(x2, y2, theta2, alpha, iterations)"
   ]
  },
  {
   "cell_type": "code",
   "execution_count": 81,
   "id": "1d60180f-78d3-4222-85b1-a96c91fcb570",
   "metadata": {},
   "outputs": [
    {
     "data": {
      "text/plain": [
       "(array([[ 2.22528896e+00],\n",
       "        [ 7.27334304e+00],\n",
       "        [ 2.93952703e+00],\n",
       "        [-1.04059134e+00],\n",
       "        [-9.40906794e-01],\n",
       "        [ 1.13938723e+00],\n",
       "        [ 5.86782681e+00],\n",
       "        [-8.80854728e-01],\n",
       "        [ 1.23814652e-01],\n",
       "        [-1.34273731e+00],\n",
       "        [-1.23025705e+00],\n",
       "        [ 5.10880487e-03],\n",
       "        [-1.45939803e-01],\n",
       "        [ 4.09832064e-02],\n",
       "        [ 5.38812666e-01],\n",
       "        [ 4.60575159e-01],\n",
       "        [ 8.39765464e-01],\n",
       "        [-8.86784135e-02],\n",
       "        [ 9.33414759e-01],\n",
       "        [ 4.02230732e-01],\n",
       "        [ 2.38922009e-01],\n",
       "        [-2.37392886e-01],\n",
       "        [-1.58405817e-01],\n",
       "        [ 3.08430290e-01]]),\n",
       " np.float64(18.904665704508314))"
      ]
     },
     "execution_count": 81,
     "metadata": {},
     "output_type": "execute_result"
    }
   ],
   "source": [
    "theta_new1, cost1[-1]"
   ]
  },
  {
   "cell_type": "code",
   "execution_count": 82,
   "id": "9ad6b402-1dcf-4e03-8e82-07f406d138fb",
   "metadata": {},
   "outputs": [
    {
     "data": {
      "text/plain": [
       "(array([[ 4.1342611 ],\n",
       "        [ 5.6379469 ],\n",
       "        [ 3.66879543],\n",
       "        [ 0.62528052],\n",
       "        [-1.16618398],\n",
       "        [ 0.75769022],\n",
       "        [ 5.87572775],\n",
       "        [-1.13341642],\n",
       "        [ 0.21187438],\n",
       "        [-1.34348835],\n",
       "        [-1.33148472],\n",
       "        [ 0.06815724],\n",
       "        [-0.37722227],\n",
       "        [ 0.3699353 ],\n",
       "        [ 0.6175518 ],\n",
       "        [ 0.45629779],\n",
       "        [ 0.6530346 ],\n",
       "        [ 0.11229375],\n",
       "        [ 0.5452887 ],\n",
       "        [ 0.28065079],\n",
       "        [-0.16247131],\n",
       "        [-0.09149094],\n",
       "        [ 0.01500118],\n",
       "        [ 0.1980835 ]]),\n",
       " np.float64(18.365409078681214))"
      ]
     },
     "execution_count": 82,
     "metadata": {},
     "output_type": "execute_result"
    }
   ],
   "source": [
    "theta_new2, cost2[-1]"
   ]
  },
  {
   "cell_type": "code",
   "execution_count": 84,
   "id": "33e32d4e-ca22-45b4-9890-46d4a7762404",
   "metadata": {},
   "outputs": [],
   "source": [
    "def predict(x, theta):\n",
    "    pred=np.dot(x,theta)\n",
    "    return pred"
   ]
  },
  {
   "cell_type": "code",
   "execution_count": 87,
   "id": "c7df5399-030a-449d-b44f-f9c4297be56f",
   "metadata": {},
   "outputs": [
    {
     "name": "stdout",
     "output_type": "stream",
     "text": [
      "(3750,) (24, 1)\n"
     ]
    }
   ],
   "source": [
    "print(tar1.shape, theta_new1.shape)"
   ]
  },
  {
   "cell_type": "code",
   "execution_count": 89,
   "id": "8bc129f3-07d7-4454-b15d-5a9482cb8a16",
   "metadata": {},
   "outputs": [
    {
     "name": "stdout",
     "output_type": "stream",
     "text": [
      "(1250,) (24, 1)\n"
     ]
    }
   ],
   "source": [
    "print(tar2.shape, theta_new2.shape)"
   ]
  },
  {
   "cell_type": "code",
   "execution_count": 91,
   "id": "cfc07640-bf1c-4cbe-b34d-2c360c2163d3",
   "metadata": {},
   "outputs": [
    {
     "data": {
      "text/plain": [
       "array([[ 8.58625841],\n",
       "       [12.3836003 ],\n",
       "       [ 6.85230496],\n",
       "       ...,\n",
       "       [-5.44127084],\n",
       "       [ 8.1836418 ],\n",
       "       [-1.38363284]])"
      ]
     },
     "execution_count": 91,
     "metadata": {},
     "output_type": "execute_result"
    }
   ],
   "source": [
    "pred_cost1=predict(x1,theta1)\n",
    "pred_cost1"
   ]
  },
  {
   "cell_type": "code",
   "execution_count": 93,
   "id": "beb2576d-04e4-4cda-a40c-a4d14f0be200",
   "metadata": {},
   "outputs": [
    {
     "data": {
      "text/plain": [
       "array([[ 4.43439051],\n",
       "       [ 4.28694832],\n",
       "       [ 6.00434899],\n",
       "       ...,\n",
       "       [14.57612325],\n",
       "       [12.83404928],\n",
       "       [10.49541821]])"
      ]
     },
     "execution_count": 93,
     "metadata": {},
     "output_type": "execute_result"
    }
   ],
   "source": [
    "pred_cost2=predict(x2,theta2)\n",
    "pred_cost2"
   ]
  },
  {
   "cell_type": "code",
   "execution_count": 95,
   "id": "8e8339f0-cae0-422c-af8c-13f54b0abc1f",
   "metadata": {},
   "outputs": [],
   "source": [
    "pred_cost1 = pred_cost1.reshape(-1)"
   ]
  },
  {
   "cell_type": "code",
   "execution_count": 97,
   "id": "d22ecaa0-1e54-4257-b773-60d3d0fd1d75",
   "metadata": {},
   "outputs": [],
   "source": [
    "pred_cost2 = pred_cost2.reshape(-1)"
   ]
  },
  {
   "cell_type": "code",
   "execution_count": 99,
   "id": "351ef0a3-541a-4cfe-9781-2fbdd8e834c9",
   "metadata": {},
   "outputs": [
    {
     "name": "stdout",
     "output_type": "stream",
     "text": [
      "(3750,)\n",
      "(3750,)\n"
     ]
    }
   ],
   "source": [
    "print(tar1.shape)\n",
    "print(pred_cost1.shape)"
   ]
  },
  {
   "cell_type": "code",
   "execution_count": 130,
   "id": "d79dceb1-dfb5-46f5-a16b-d10db5e6991f",
   "metadata": {},
   "outputs": [
    {
     "name": "stdout",
     "output_type": "stream",
     "text": [
      "(1250,)\n",
      "(1250,)\n"
     ]
    }
   ],
   "source": [
    "print(tar2.shape)\n",
    "print(pred_cost2.shape)"
   ]
  },
  {
   "cell_type": "code",
   "execution_count": 131,
   "id": "a82a2312-da5f-4be5-a2aa-a5f5c2c5e4c8",
   "metadata": {},
   "outputs": [],
   "source": [
    "def rsq(tar, pred_cost):\n",
    "    rss = np.sum((tar - pred_cost) ** 2)  # Residual sum of squares\n",
    "    tss = np.sum((tar - np.mean(pred_cost)) ** 2)  # Total sum of squares\n",
    "    return 1 - rss / tss"
   ]
  },
  {
   "cell_type": "code",
   "execution_count": 124,
   "id": "3ff2ddc4-c09b-4fc2-ac6f-0ab456c53870",
   "metadata": {},
   "outputs": [
    {
     "name": "stdout",
     "output_type": "stream",
     "text": [
      "Training R² Score: 69.89%\n",
      "Testing R² Score: 70.37%\n"
     ]
    }
   ],
   "source": [
    "outrsq1=rsq(tar1, pred_cost1)\n",
    "outrsq2=rsq(tar2, pred_cost2)\n",
    "print(f\"Training R² Score: {outrsq1 * 100:.2f}%\")\n",
    "print(f\"Testing R² Score: {outrsq2 * 100:.2f}%\")"
   ]
  },
  {
   "cell_type": "code",
   "execution_count": 139,
   "id": "4e169384-a63e-498b-9a82-568e61dd9458",
   "metadata": {},
   "outputs": [
    {
     "name": "stdout",
     "output_type": "stream",
     "text": [
      "Final cost of testing set: 18.365409078681214\n"
     ]
    }
   ],
   "source": [
    "print(\"Final cost of testing set:\", cost2[-1])"
   ]
  },
  {
   "cell_type": "code",
   "execution_count": 143,
   "id": "f5c93dcd-f882-47e0-b366-aae464f42b6a",
   "metadata": {},
   "outputs": [
    {
     "name": "stdout",
     "output_type": "stream",
     "text": [
      "Final weights: [[ 4.1342611 ]\n",
      " [ 5.6379469 ]\n",
      " [ 3.66879543]\n",
      " [ 0.62528052]\n",
      " [-1.16618398]\n",
      " [ 0.75769022]\n",
      " [ 5.87572775]\n",
      " [-1.13341642]\n",
      " [ 0.21187438]\n",
      " [-1.34348835]\n",
      " [-1.33148472]\n",
      " [ 0.06815724]\n",
      " [-0.37722227]\n",
      " [ 0.3699353 ]\n",
      " [ 0.6175518 ]\n",
      " [ 0.45629779]\n",
      " [ 0.6530346 ]\n",
      " [ 0.11229375]\n",
      " [ 0.5452887 ]\n",
      " [ 0.28065079]\n",
      " [-0.16247131]\n",
      " [-0.09149094]\n",
      " [ 0.01500118]\n",
      " [ 0.1980835 ]]\n"
     ]
    }
   ],
   "source": [
    "print(\"Final weights:\", theta_new2)"
   ]
  },
  {
   "cell_type": "code",
   "execution_count": 127,
   "id": "e06ec191-cfc6-40d7-8acb-8b3222db90bc",
   "metadata": {},
   "outputs": [
    {
     "data": {
      "image/png": "[encoded data removed]",
      "text/plain": [
       "<Figure size 640x480 with 1 Axes>"
      ]
     },
     "metadata": {},
     "output_type": "display_data"
    }
   ],
   "source": [
    "# cost of testing sets vs iterations \n",
    "plt.plot(range(iterations), cost2, color=\"red\")\n",
    "plt.xlabel(\"Iterations\")\n",
    "plt.ylabel(\"Cost of testing\")\n",
    "plt.title(\"Cost vs. Iterations in Gradient Descent\")\n",
    "plt.show()"
   ]
  },
  {
   "cell_type": "code",
   "execution_count": 126,
   "id": "62c1f359-3182-47b3-9759-6490c5f2fd04",
   "metadata": {},
   "outputs": [
    {
     "data": {
      "image/png": "[encoded data removed]",
      "text/plain": [
       "<Figure size 640x480 with 1 Axes>"
      ]
     },
     "metadata": {},
     "output_type": "display_data"
    }
   ],
   "source": [
    "# for graph of preicted vs test costs\n",
    "plt.scatter(tar2,pred_cost2,color='blue',alpha=0.01)\n",
    "plt.xlabel('actual values')\n",
    "plt.ylabel('predicted values')\n",
    "plt.title('predicted vs test costs')\n",
    "plt.show()"
   ]
  }
 ],
 "metadata": {
  "kernelspec": {
   "display_name": "Python 3 (ipykernel)",
   "language": "python",
   "name": "python3"
  },
  "language_info": {
   "codemirror_mode": {
    "name": "ipython",
    "version": 3
   },
   "file_extension": ".py",
   "mimetype": "text/x-python",
   "name": "python",
   "nbconvert_exporter": "python",
   "pygments_lexer": "ipython3",
   "version": "3.12.5"
  }
 },
 "nbformat": 4,
 "nbformat_minor": 5
}
